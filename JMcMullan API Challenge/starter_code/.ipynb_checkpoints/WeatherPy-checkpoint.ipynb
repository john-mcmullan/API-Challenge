{
 "cells": [
  {
   "cell_type": "markdown",
   "metadata": {},
   "source": [
    "# WeatherPy\n",
    "----\n",
    "\n",
    "#### Note\n",
    "* Instructions have been included for each segment. You do not have to follow them exactly, but they are included to help you think through the steps."
   ]
  },
  {
   "cell_type": "code",
   "execution_count": 1,
   "metadata": {
    "scrolled": true
   },
   "outputs": [],
   "source": [
    "# Dependencies and Setup\n",
    "import matplotlib.pyplot as plt\n",
    "import pandas as pd\n",
    "import numpy as np\n",
    "import requests\n",
    "import time\n",
    "from scipy.stats import linregress\n",
    "from pprint import pprint\n",
    "\n",
    "# Import API key\n",
    "from api_keys import weather_api_key\n",
    "\n",
    "# Incorporated citipy to determine city based on latitude and longitude\n",
    "from citipy import citipy\n",
    "\n",
    "# Output File (CSV)\n",
    "output_data_file = \"output_data/cities.csv\"\n",
    "\n",
    "# Range of latitudes and longitudes\n",
    "lat_range = (-90, 90)\n",
    "lng_range = (-180, 180)\n"
   ]
  },
  {
   "cell_type": "markdown",
   "metadata": {},
   "source": [
    "## Generate Cities List"
   ]
  },
  {
   "cell_type": "code",
   "execution_count": 2,
   "metadata": {},
   "outputs": [
    {
     "data": {
      "text/plain": [
       "617"
      ]
     },
     "execution_count": 2,
     "metadata": {},
     "output_type": "execute_result"
    }
   ],
   "source": [
    "# List for holding lat_lngs and cities\n",
    "lat_lngs = []\n",
    "cities = []\n",
    "\n",
    "# Create a set of random lat and lng combinations\n",
    "lats = np.random.uniform(lat_range[0], lat_range[1], size=1500)\n",
    "lngs = np.random.uniform(lng_range[0], lng_range[1], size=1500)\n",
    "lat_lngs = zip(lats, lngs)\n",
    "\n",
    "# Identify nearest city for each lat, lng combination\n",
    "for lat_lng in lat_lngs:\n",
    "    city = citipy.nearest_city(lat_lng[0], lat_lng[1]).city_name\n",
    "    \n",
    "    # If the city is unique, then add it to a our cities list\n",
    "    if city not in cities:\n",
    "        cities.append(city)\n",
    "\n",
    "# Print the city count to confirm sufficient count\n",
    "len(cities)"
   ]
  },
  {
   "cell_type": "markdown",
   "metadata": {},
   "source": [
    "### Perform API Calls\n",
    "* Perform a weather check on each city using a series of successive API calls.\n",
    "* Include a print log of each city as it'sbeing processed (with the city number and city name).\n"
   ]
  },
  {
   "cell_type": "code",
   "execution_count": 3,
   "metadata": {
    "scrolled": true
   },
   "outputs": [],
   "source": [
    "\n",
    "# Setting base url\n",
    "url = \"http://api.openweathermap.org/data/2.5/weather?\"\n",
    "units = 'metric'\n",
    "\n",
    "# place to store information\n",
    "lat = []\n",
    "long = []\n",
    "temp = []\n",
    "humidity = []\n",
    "cloud = []\n",
    "wind = []\n",
    "country = []\n",
    "date = []\n",
    "place = []\n",
    "\n",
    "# Number count\n",
    "recordcount = 1\n",
    "setcount = 1\n",
    "\n",
    "#Start of Print\n",
    "print('Beginning Data Retrieval')     \n",
    "print('-----------------------------')\n",
    "\n",
    "# run through the cities in our list\n",
    "for i, city in enumerate(cities):\n",
    "    \n",
    "    #set new url for new city\n",
    "    query = f'{url}appid={weather_api_key}&units={units}&q={city}'\n",
    "    \n",
    "    #change numbers for a new city\n",
    "    if (i % 50 == 0 and i >= 50):\n",
    "        setcount += 1\n",
    "        recordcount = 1\n",
    "    \n",
    "    #print new counts\n",
    "    print(f\"Processing Record {recordcount} of Set {setcount} | {city}\")\n",
    "    \n",
    "    #add 1 to the recordcount\n",
    "    recordcount += 1\n",
    "    \n",
    "    #pull the information\n",
    "    try:\n",
    "        \n",
    "        # Get weather data\n",
    "        Response = requests.get(query)\n",
    "        json = Response.json()\n",
    "    \n",
    "        # add info to list\n",
    "        temp.append(json['main']['temp'])\n",
    "        lat.append(json['coord']['lat'])\n",
    "        long.append(json['coord']['lon'])\n",
    "        country.append(json['sys']['country'])\n",
    "        humidity.append(json['main']['humidity'])\n",
    "        cloud.append(json['clouds']['all'])\n",
    "        wind.append(json['wind']['speed'])\n",
    "        date.append(json['dt'])\n",
    "        place.append(json['name'])\n",
    "        \n",
    "        #suspension time\n",
    "        time.sleep(1)\n",
    "    \n",
    "    #if you can't find the city    \n",
    "    except (KeyError, IndexError):\n",
    "        print('City not found. Skipping...')\n",
    "\n",
    "#print the end        \n",
    "print(\"-----------------------------\")\n",
    "print(\"Data Retrieval Complete\")   \n",
    "print(\"-----------------------------\")\n",
    "    "
   ]
  },
  {
   "cell_type": "markdown",
   "metadata": {},
   "source": [
    "### Convert Raw Data to DataFrame\n",
    "* Export the city data into a .csv.\n",
    "* Display the DataFrame"
   ]
  },
  {
   "cell_type": "code",
   "execution_count": 4,
   "metadata": {
    "scrolled": false
   },
   "outputs": [
    {
     "ename": "NameError",
     "evalue": "name 'place' is not defined",
     "output_type": "error",
     "traceback": [
      "\u001b[1;31m---------------------------------------------------------------------------\u001b[0m",
      "\u001b[1;31mNameError\u001b[0m                                 Traceback (most recent call last)",
      "\u001b[1;32m~\\AppData\\Local\\Temp/ipykernel_12968/4022804727.py\u001b[0m in \u001b[0;36m<module>\u001b[1;34m\u001b[0m\n\u001b[0;32m      1\u001b[0m \u001b[1;31m#Create dataframe of new information\u001b[0m\u001b[1;33m\u001b[0m\u001b[1;33m\u001b[0m\u001b[0m\n\u001b[0;32m      2\u001b[0m pl = pd.DataFrame({\n\u001b[1;32m----> 3\u001b[1;33m     \u001b[1;34m'City'\u001b[0m\u001b[1;33m:\u001b[0m \u001b[0mplace\u001b[0m\u001b[1;33m,\u001b[0m\u001b[1;33m\u001b[0m\u001b[1;33m\u001b[0m\u001b[0m\n\u001b[0m\u001b[0;32m      4\u001b[0m     \u001b[1;34m'Lat'\u001b[0m\u001b[1;33m:\u001b[0m \u001b[0mlat\u001b[0m\u001b[1;33m,\u001b[0m\u001b[1;33m\u001b[0m\u001b[1;33m\u001b[0m\u001b[0m\n\u001b[0;32m      5\u001b[0m     \u001b[1;34m'Lng'\u001b[0m\u001b[1;33m:\u001b[0m \u001b[0mlong\u001b[0m\u001b[1;33m,\u001b[0m\u001b[1;33m\u001b[0m\u001b[1;33m\u001b[0m\u001b[0m\n",
      "\u001b[1;31mNameError\u001b[0m: name 'place' is not defined"
     ]
    }
   ],
   "source": [
    "Create dataframe of new information\n",
    "pl = pd.DataFrame({\n",
    "    'City': place,\n",
    "    'Lat': lat,\n",
    "    'Lng': long,\n",
    "    'Max Temp': temp,\n",
    "    'Humidity': humidity,\n",
    "    'Cloudiness': cloud,\n",
    "    'Wind Speed': wind,\n",
    "    'Country': country,\n",
    "    'Date': date\n",
    "})\n",
    "\n",
    "#Store in csv file\n",
    "pl.to_csv('../output_data/citydata.csv', index=False)\n",
    "\n",
    "#Show Dataframe\n",
    "pl"
   ]
  },
  {
   "cell_type": "code",
   "execution_count": 8,
   "metadata": {},
   "outputs": [
    {
     "data": {
      "text/html": [
       "<div>\n",
       "<style scoped>\n",
       "    .dataframe tbody tr th:only-of-type {\n",
       "        vertical-align: middle;\n",
       "    }\n",
       "\n",
       "    .dataframe tbody tr th {\n",
       "        vertical-align: top;\n",
       "    }\n",
       "\n",
       "    .dataframe thead th {\n",
       "        text-align: right;\n",
       "    }\n",
       "</style>\n",
       "<table border=\"1\" class=\"dataframe\">\n",
       "  <thead>\n",
       "    <tr style=\"text-align: right;\">\n",
       "      <th></th>\n",
       "      <th>City</th>\n",
       "      <th>Lat</th>\n",
       "      <th>Lng</th>\n",
       "      <th>Max Temp</th>\n",
       "      <th>Humidity</th>\n",
       "      <th>Cloudiness</th>\n",
       "      <th>Wind Speed</th>\n",
       "      <th>Country</th>\n",
       "      <th>Date</th>\n",
       "    </tr>\n",
       "  </thead>\n",
       "  <tbody>\n",
       "    <tr>\n",
       "      <th>0</th>\n",
       "      <td>Ribeira Grande</td>\n",
       "      <td>38.5167</td>\n",
       "      <td>-28.7000</td>\n",
       "      <td>24.22</td>\n",
       "      <td>88</td>\n",
       "      <td>75</td>\n",
       "      <td>2.57</td>\n",
       "      <td>PT</td>\n",
       "      <td>1658761328</td>\n",
       "    </tr>\n",
       "    <tr>\n",
       "      <th>1</th>\n",
       "      <td>Albany</td>\n",
       "      <td>42.6001</td>\n",
       "      <td>-73.9662</td>\n",
       "      <td>23.08</td>\n",
       "      <td>93</td>\n",
       "      <td>100</td>\n",
       "      <td>3.09</td>\n",
       "      <td>US</td>\n",
       "      <td>1658761202</td>\n",
       "    </tr>\n",
       "    <tr>\n",
       "      <th>2</th>\n",
       "      <td>Ugoofaaru</td>\n",
       "      <td>5.6667</td>\n",
       "      <td>73.0000</td>\n",
       "      <td>27.76</td>\n",
       "      <td>78</td>\n",
       "      <td>80</td>\n",
       "      <td>6.96</td>\n",
       "      <td>MV</td>\n",
       "      <td>1658761356</td>\n",
       "    </tr>\n",
       "    <tr>\n",
       "      <th>3</th>\n",
       "      <td>Rikitea</td>\n",
       "      <td>-23.1203</td>\n",
       "      <td>-134.9692</td>\n",
       "      <td>23.92</td>\n",
       "      <td>73</td>\n",
       "      <td>23</td>\n",
       "      <td>8.62</td>\n",
       "      <td>PF</td>\n",
       "      <td>1658761358</td>\n",
       "    </tr>\n",
       "    <tr>\n",
       "      <th>4</th>\n",
       "      <td>Lebu</td>\n",
       "      <td>-37.6167</td>\n",
       "      <td>-73.6500</td>\n",
       "      <td>12.22</td>\n",
       "      <td>82</td>\n",
       "      <td>100</td>\n",
       "      <td>10.87</td>\n",
       "      <td>CL</td>\n",
       "      <td>1658761359</td>\n",
       "    </tr>\n",
       "  </tbody>\n",
       "</table>\n",
       "</div>"
      ],
      "text/plain": [
       "             City      Lat       Lng  Max Temp  Humidity  Cloudiness  \\\n",
       "0  Ribeira Grande  38.5167  -28.7000     24.22        88          75   \n",
       "1          Albany  42.6001  -73.9662     23.08        93         100   \n",
       "2       Ugoofaaru   5.6667   73.0000     27.76        78          80   \n",
       "3         Rikitea -23.1203 -134.9692     23.92        73          23   \n",
       "4            Lebu -37.6167  -73.6500     12.22        82         100   \n",
       "\n",
       "   Wind Speed Country        Date  \n",
       "0        2.57      PT  1658761328  \n",
       "1        3.09      US  1658761202  \n",
       "2        6.96      MV  1658761356  \n",
       "3        8.62      PF  1658761358  \n",
       "4       10.87      CL  1658761359  "
      ]
     },
     "execution_count": 8,
     "metadata": {},
     "output_type": "execute_result"
    }
   ],
   "source": [
    "pl = pd.read_csv('../output_data/citydata.csv')\n",
    "pl.head()"
   ]
  },
  {
   "cell_type": "code",
   "execution_count": 9,
   "metadata": {},
   "outputs": [
    {
     "data": {
      "text/html": [
       "<div>\n",
       "<style scoped>\n",
       "    .dataframe tbody tr th:only-of-type {\n",
       "        vertical-align: middle;\n",
       "    }\n",
       "\n",
       "    .dataframe tbody tr th {\n",
       "        vertical-align: top;\n",
       "    }\n",
       "\n",
       "    .dataframe thead th {\n",
       "        text-align: right;\n",
       "    }\n",
       "</style>\n",
       "<table border=\"1\" class=\"dataframe\">\n",
       "  <thead>\n",
       "    <tr style=\"text-align: right;\">\n",
       "      <th></th>\n",
       "      <th>Lat</th>\n",
       "      <th>Lng</th>\n",
       "      <th>Max Temp</th>\n",
       "      <th>Humidity</th>\n",
       "      <th>Cloudiness</th>\n",
       "      <th>Wind Speed</th>\n",
       "      <th>Date</th>\n",
       "    </tr>\n",
       "  </thead>\n",
       "  <tbody>\n",
       "    <tr>\n",
       "      <th>count</th>\n",
       "      <td>546.000000</td>\n",
       "      <td>546.000000</td>\n",
       "      <td>546.000000</td>\n",
       "      <td>546.000000</td>\n",
       "      <td>546.000000</td>\n",
       "      <td>546.000000</td>\n",
       "      <td>5.460000e+02</td>\n",
       "    </tr>\n",
       "    <tr>\n",
       "      <th>mean</th>\n",
       "      <td>21.662368</td>\n",
       "      <td>15.422582</td>\n",
       "      <td>21.880971</td>\n",
       "      <td>68.573260</td>\n",
       "      <td>57.855311</td>\n",
       "      <td>3.681007</td>\n",
       "      <td>1.658762e+09</td>\n",
       "    </tr>\n",
       "    <tr>\n",
       "      <th>std</th>\n",
       "      <td>32.967680</td>\n",
       "      <td>88.908891</td>\n",
       "      <td>8.198183</td>\n",
       "      <td>21.780623</td>\n",
       "      <td>38.945494</td>\n",
       "      <td>2.360283</td>\n",
       "      <td>2.759760e+02</td>\n",
       "    </tr>\n",
       "    <tr>\n",
       "      <th>min</th>\n",
       "      <td>-54.800000</td>\n",
       "      <td>-175.200000</td>\n",
       "      <td>-0.550000</td>\n",
       "      <td>5.000000</td>\n",
       "      <td>0.000000</td>\n",
       "      <td>0.000000</td>\n",
       "      <td>1.658761e+09</td>\n",
       "    </tr>\n",
       "    <tr>\n",
       "      <th>25%</th>\n",
       "      <td>-4.987175</td>\n",
       "      <td>-61.814000</td>\n",
       "      <td>15.790000</td>\n",
       "      <td>58.000000</td>\n",
       "      <td>20.000000</td>\n",
       "      <td>1.865000</td>\n",
       "      <td>1.658761e+09</td>\n",
       "    </tr>\n",
       "    <tr>\n",
       "      <th>50%</th>\n",
       "      <td>27.857650</td>\n",
       "      <td>21.240750</td>\n",
       "      <td>22.920000</td>\n",
       "      <td>74.000000</td>\n",
       "      <td>69.000000</td>\n",
       "      <td>3.160000</td>\n",
       "      <td>1.658762e+09</td>\n",
       "    </tr>\n",
       "    <tr>\n",
       "      <th>75%</th>\n",
       "      <td>50.175100</td>\n",
       "      <td>86.101850</td>\n",
       "      <td>27.750000</td>\n",
       "      <td>85.000000</td>\n",
       "      <td>99.000000</td>\n",
       "      <td>5.140000</td>\n",
       "      <td>1.658762e+09</td>\n",
       "    </tr>\n",
       "    <tr>\n",
       "      <th>max</th>\n",
       "      <td>78.218600</td>\n",
       "      <td>179.316700</td>\n",
       "      <td>43.170000</td>\n",
       "      <td>100.000000</td>\n",
       "      <td>100.000000</td>\n",
       "      <td>13.870000</td>\n",
       "      <td>1.658762e+09</td>\n",
       "    </tr>\n",
       "  </tbody>\n",
       "</table>\n",
       "</div>"
      ],
      "text/plain": [
       "              Lat         Lng    Max Temp    Humidity  Cloudiness  Wind Speed  \\\n",
       "count  546.000000  546.000000  546.000000  546.000000  546.000000  546.000000   \n",
       "mean    21.662368   15.422582   21.880971   68.573260   57.855311    3.681007   \n",
       "std     32.967680   88.908891    8.198183   21.780623   38.945494    2.360283   \n",
       "min    -54.800000 -175.200000   -0.550000    5.000000    0.000000    0.000000   \n",
       "25%     -4.987175  -61.814000   15.790000   58.000000   20.000000    1.865000   \n",
       "50%     27.857650   21.240750   22.920000   74.000000   69.000000    3.160000   \n",
       "75%     50.175100   86.101850   27.750000   85.000000   99.000000    5.140000   \n",
       "max     78.218600  179.316700   43.170000  100.000000  100.000000   13.870000   \n",
       "\n",
       "               Date  \n",
       "count  5.460000e+02  \n",
       "mean   1.658762e+09  \n",
       "std    2.759760e+02  \n",
       "min    1.658761e+09  \n",
       "25%    1.658761e+09  \n",
       "50%    1.658762e+09  \n",
       "75%    1.658762e+09  \n",
       "max    1.658762e+09  "
      ]
     },
     "execution_count": 9,
     "metadata": {},
     "output_type": "execute_result"
    }
   ],
   "source": [
    "#describe the data\n",
    "pl.describe()"
   ]
  },
  {
   "cell_type": "markdown",
   "metadata": {},
   "source": [
    "## Inspect the data and remove the cities where the humidity > 100%.\n",
    "----\n",
    "Skip this step if there are no cities that have humidity > 100%. "
   ]
  },
  {
   "cell_type": "code",
   "execution_count": null,
   "metadata": {},
   "outputs": [],
   "source": [
    "#  Get the indices of cities that have humidity over 100%.\n",
    "hum = pl.loc[(pl['Humidity'] >= 100)].index\n",
    "hum"
   ]
  },
  {
   "cell_type": "code",
   "execution_count": null,
   "metadata": {},
   "outputs": [],
   "source": [
    "# Make a new DataFrame equal to the city data to drop all humidity outliers by index.\n",
    "# Passing \"inplace=False\" will make a copy of the city_data DataFrame, which we call \"clean_city_data\".\n",
    "update = pl.drop(hum, inplace=False)\n",
    "update\n"
   ]
  },
  {
   "cell_type": "code",
   "execution_count": null,
   "metadata": {},
   "outputs": [],
   "source": [
    "#check new data\n",
    "update.describe()"
   ]
  },
  {
   "cell_type": "markdown",
   "metadata": {},
   "source": [
    "## Plotting the Data\n",
    "* Use proper labeling of the plots using plot titles (including date of analysis) and axes labels.\n",
    "* Save the plotted figures as .pngs."
   ]
  },
  {
   "cell_type": "markdown",
   "metadata": {},
   "source": [
    "## Latitude vs. Temperature Plot"
   ]
  },
  {
   "cell_type": "code",
   "execution_count": null,
   "metadata": {
    "scrolled": true
   },
   "outputs": [],
   "source": [
    "#Create scatter plot\n",
    "plt.scatter(update[\"Lat\"], update[\"Max Temp\"], facecolors=\"blue\", edgecolors='black')\n",
    "plt.ylabel(\"Max Temperature (C)\")\n",
    "plt.xlabel('Latitude')\n",
    "plt.title(\"City Latitude Vs Max Temperature\")\n",
    "plt.grid()\n",
    "\n",
    "#store new fig\n",
    "plt.savefig('../output_data/Fig1.png')\n",
    "\n",
    "#show\n",
    "plt.show"
   ]
  },
  {
   "cell_type": "markdown",
   "metadata": {},
   "source": [
    "## Latitude vs. Humidity Plot"
   ]
  },
  {
   "cell_type": "code",
   "execution_count": null,
   "metadata": {},
   "outputs": [],
   "source": [
    "#Create scatter plot\n",
    "plt.scatter(update[\"Lat\"], update[\"Humidity\"], facecolors=\"blue\", edgecolors='black')\n",
    "plt.ylabel(\"Humidity (%)\")\n",
    "plt.xlabel('Latitude')\n",
    "plt.title(\"City Latitude Vs Humidity\")\n",
    "plt.grid()\n",
    "\n",
    "#store new fig\n",
    "plt.savefig('../output_data/Fig2.png')\n",
    "\n",
    "#show\n",
    "plt.show"
   ]
  },
  {
   "cell_type": "markdown",
   "metadata": {},
   "source": [
    "## Latitude vs. Cloudiness Plot"
   ]
  },
  {
   "cell_type": "code",
   "execution_count": null,
   "metadata": {},
   "outputs": [],
   "source": [
    "#Create scatter plot\n",
    "plt.scatter(update[\"Lat\"], update[\"Cloudiness\"], facecolors=\"blue\", edgecolors='black')\n",
    "plt.ylabel(\"Cloudiness (%)\")\n",
    "plt.xlabel('Latitude')\n",
    "plt.title(\"City Latitude Vs Cloudiness\")\n",
    "plt.grid()\n",
    "\n",
    "#store new fig\n",
    "plt.savefig('../output_data/Fig3.png')\n",
    "\n",
    "#show\n",
    "plt.show"
   ]
  },
  {
   "cell_type": "markdown",
   "metadata": {},
   "source": [
    "## Latitude vs. Wind Speed Plot"
   ]
  },
  {
   "cell_type": "code",
   "execution_count": null,
   "metadata": {},
   "outputs": [],
   "source": [
    "#Create scatter plot\n",
    "plt.scatter(update[\"Lat\"], update[\"Wind Speed\"], facecolors=\"blue\", edgecolors='black')\n",
    "plt.ylabel(\"Wind Speed (mph)\")\n",
    "plt.xlabel('Latitude')\n",
    "plt.title(\"City Latitude Vs Wind Speed\")\n",
    "plt.grid()\n",
    "\n",
    "#store new fig\n",
    "plt.savefig('../output_data/Fig4.png')\n",
    "\n",
    "#show\n",
    "plt.show"
   ]
  },
  {
   "cell_type": "markdown",
   "metadata": {},
   "source": [
    "## Linear Regression"
   ]
  },
  {
   "cell_type": "code",
   "execution_count": null,
   "metadata": {},
   "outputs": [],
   "source": [
    "#setting hemispheres\n",
    "north = update.loc[update['Lat'] >= 0, :]\n",
    "south = update.loc[update['Lat'] <= 0, :]"
   ]
  },
  {
   "cell_type": "markdown",
   "metadata": {},
   "source": [
    "####  Northern Hemisphere - Max Temp vs. Latitude Linear Regression"
   ]
  },
  {
   "cell_type": "code",
   "execution_count": null,
   "metadata": {},
   "outputs": [],
   "source": [
    "#Create scatter plot\n",
    "plt.scatter(north[\"Lat\"], north[\"Max Temp\"], facecolors=\"blue\", edgecolors='black')\n",
    "\n",
    "#Create line\n",
    "(slope, yIntercept, rvalue, pvalue, sterr) = linregress(north[\"Lat\"], north[\"Max Temp\"])\n",
    "values = (north[\"Lat\"] * slope) + yIntercept\n",
    "plt.plot(north[\"Lat\"], values, 'r')\n",
    "line = f'y = {slope:.2f}x + {yIntercept:.2f}'\n",
    "plt.annotate(line,(10,5), fontsize=12, color='r')\n",
    "\n",
    "#Label\n",
    "plt.ylabel(\"Max Temperature (C)\")\n",
    "plt.xlabel('Latitude')\n",
    "\n",
    "#Show and print r-value\n",
    "plt.show\n",
    "print(f'The r-value is: {rvalue}')"
   ]
  },
  {
   "cell_type": "markdown",
   "metadata": {},
   "source": [
    "####  Southern Hemisphere - Max Temp vs. Latitude Linear Regression"
   ]
  },
  {
   "cell_type": "code",
   "execution_count": null,
   "metadata": {},
   "outputs": [],
   "source": [
    "#Create scatter plot\n",
    "plt.scatter(south[\"Lat\"], south[\"Max Temp\"], facecolors=\"blue\", edgecolors='black')\n",
    "\n",
    "#Create line\n",
    "(slope, yIntercept, rvalue, pvalue, sterr) = linregress(south[\"Lat\"], south[\"Max Temp\"])\n",
    "values = (south[\"Lat\"] * slope) + yIntercept\n",
    "plt.plot(south[\"Lat\"], values, 'r')\n",
    "line = f'y = {slope:.2f}x + {yIntercept:.2f}'\n",
    "plt.annotate(line,(-50,30), fontsize=12, color='r')\n",
    "\n",
    "#Label\n",
    "plt.ylabel(\"Max Temperature (C)\")\n",
    "plt.xlabel('Latitude')\n",
    "\n",
    "#Show and print r-value\n",
    "plt.show\n",
    "print(f'The r-value is: {rvalue}')"
   ]
  },
  {
   "cell_type": "markdown",
   "metadata": {},
   "source": [
    "####  Northern Hemisphere - Humidity (%) vs. Latitude Linear Regression"
   ]
  },
  {
   "cell_type": "code",
   "execution_count": null,
   "metadata": {},
   "outputs": [],
   "source": [
    "#Create scatter plot\n",
    "plt.scatter(north[\"Lat\"], north[\"Humidity\"], facecolors=\"blue\", edgecolors='black')\n",
    "\n",
    "#Create line\n",
    "(slope, yIntercept, rvalue, pvalue, sterr) = linregress(north[\"Lat\"], north[\"Humidity\"])\n",
    "values = (north[\"Lat\"] * slope) + yIntercept\n",
    "plt.plot(north[\"Lat\"], values, 'r')\n",
    "line = f'y = {slope:.2f}x + {yIntercept:.2f}'\n",
    "plt.annotate(line,(50,5), fontsize=12, color='r')\n",
    "\n",
    "#Label\n",
    "plt.ylabel(\"Humidity (%)\")\n",
    "plt.xlabel('Latitude')\n",
    "\n",
    "#Show and print r-value\n",
    "plt.show\n",
    "print(f'The r-value is: {rvalue}')"
   ]
  },
  {
   "cell_type": "markdown",
   "metadata": {},
   "source": [
    "####  Southern Hemisphere - Humidity (%) vs. Latitude Linear Regression"
   ]
  },
  {
   "cell_type": "code",
   "execution_count": null,
   "metadata": {},
   "outputs": [],
   "source": [
    "#Create scatter plot\n",
    "plt.scatter(south[\"Lat\"], south[\"Humidity\"], facecolors=\"blue\", edgecolors='black')\n",
    "\n",
    "#Create line\n",
    "(slope, yIntercept, rvalue, pvalue, sterr) = linregress(south[\"Lat\"], south[\"Humidity\"])\n",
    "values = (south[\"Lat\"] * slope) + yIntercept\n",
    "plt.plot(south[\"Lat\"], values, 'r')\n",
    "line = f'y = {slope:.2f}x + {yIntercept:.2f}'\n",
    "plt.annotate(line,(-50,20), fontsize=12, color='r')\n",
    "\n",
    "#Label\n",
    "plt.ylabel(\"Humidity (%)\")\n",
    "plt.xlabel('Latitude')\n",
    "\n",
    "#Show and print r-value\n",
    "plt.show\n",
    "print(f'The r-value is: {rvalue}')"
   ]
  },
  {
   "cell_type": "markdown",
   "metadata": {},
   "source": [
    "####  Northern Hemisphere - Cloudiness (%) vs. Latitude Linear Regression"
   ]
  },
  {
   "cell_type": "code",
   "execution_count": null,
   "metadata": {},
   "outputs": [],
   "source": [
    "#Create scatter plot\n",
    "plt.scatter(north[\"Lat\"], north[\"Cloudiness\"], facecolors=\"blue\", edgecolors='black')\n",
    "\n",
    "#Create line\n",
    "(slope, yIntercept, rvalue, pvalue, sterr) = linregress(north[\"Lat\"], north[\"Cloudiness\"])\n",
    "values = (north[\"Lat\"] * slope) + yIntercept\n",
    "plt.plot(north[\"Lat\"], values, 'r')\n",
    "line = f'y = {slope:.2f}x + {yIntercept:.2f}'\n",
    "plt.annotate(line,(15,50), fontsize=12, color='r')\n",
    "\n",
    "#Label\n",
    "plt.ylabel(\"Cloudiness (%)\")\n",
    "plt.xlabel('Latitude')\n",
    "\n",
    "#Show and print r-value\n",
    "plt.show\n",
    "print(f'The r-value is: {rvalue}')"
   ]
  },
  {
   "cell_type": "markdown",
   "metadata": {},
   "source": [
    "####  Southern Hemisphere - Cloudiness (%) vs. Latitude Linear Regression"
   ]
  },
  {
   "cell_type": "code",
   "execution_count": null,
   "metadata": {},
   "outputs": [],
   "source": [
    "#Create scatter plot\n",
    "plt.scatter(south[\"Lat\"], south[\"Cloudiness\"], facecolors=\"blue\", edgecolors='black')\n",
    "\n",
    "#Create line\n",
    "(slope, yIntercept, rvalue, pvalue, sterr) = linregress(south[\"Lat\"], south[\"Cloudiness\"])\n",
    "values = (south[\"Lat\"] * slope) + yIntercept\n",
    "plt.plot(south[\"Lat\"], values, 'r')\n",
    "line = f'y = {slope:.2f}x + {yIntercept:.2f}'\n",
    "plt.annotate(line,(-55,20), fontsize=12, color='r')\n",
    "\n",
    "#Label\n",
    "plt.ylabel(\"Cloudiness (%)\")\n",
    "plt.xlabel('Latitude')\n",
    "\n",
    "#Show and print r-value\n",
    "plt.show\n",
    "print(f'The r-value is: {rvalue}')"
   ]
  },
  {
   "cell_type": "markdown",
   "metadata": {},
   "source": [
    "####  Northern Hemisphere - Wind Speed (mph) vs. Latitude Linear Regression"
   ]
  },
  {
   "cell_type": "code",
   "execution_count": null,
   "metadata": {},
   "outputs": [],
   "source": [
    "#Create scatter plot\n",
    "plt.scatter(north[\"Lat\"], north[\"Wind Speed\"], facecolors=\"blue\", edgecolors='black')\n",
    "\n",
    "#Create line\n",
    "(slope, yIntercept, rvalue, pvalue, sterr) = linregress(north[\"Lat\"], north[\"Wind Speed\"])\n",
    "values = (north[\"Lat\"] * slope) + yIntercept\n",
    "plt.plot(north[\"Lat\"], values, 'r')\n",
    "line = f'y = {slope:.4f}x + {yIntercept:.2f}'\n",
    "plt.annotate(line,(15,12), fontsize=12, color='r')\n",
    "\n",
    "#Label\n",
    "plt.ylabel(\"Wind Speed (mph)\")\n",
    "plt.xlabel('Latitude')\n",
    "\n",
    "#Show and print r-value\n",
    "plt.show\n",
    "print(f'The r-value is: {rvalue}')"
   ]
  },
  {
   "cell_type": "markdown",
   "metadata": {},
   "source": [
    "####  Southern Hemisphere - Wind Speed (mph) vs. Latitude Linear Regression"
   ]
  },
  {
   "cell_type": "code",
   "execution_count": null,
   "metadata": {},
   "outputs": [],
   "source": [
    "#Create scatter plot\n",
    "plt.scatter(south[\"Lat\"], south[\"Wind Speed\"], facecolors=\"blue\", edgecolors='black')\n",
    "\n",
    "#Create line\n",
    "(slope, yIntercept, rvalue, pvalue, sterr) = linregress(south[\"Lat\"], south[\"Wind Speed\"])\n",
    "values = (south[\"Lat\"] * slope) + yIntercept\n",
    "plt.plot(south[\"Lat\"], values, 'r')\n",
    "line = f'y = {slope:.2f}x + {yIntercept:.2f}'\n",
    "plt.annotate(line,(-25,11), fontsize=12, color='r')\n",
    "\n",
    "#Label\n",
    "plt.ylabel(\"Wind Speed (mph)\")\n",
    "plt.xlabel('Latitude')\n",
    "\n",
    "#Show and print r-value\n",
    "plt.show\n",
    "print(f'The r-value is: {rvalue}')"
   ]
  },
  {
   "cell_type": "markdown",
   "metadata": {},
   "source": [
    "## Analysis"
   ]
  },
  {
   "cell_type": "markdown",
   "metadata": {},
   "source": [
    "1. Latitude has the most effect on Maximum temperature and very little on other variables like wind speed and cloudiness.\n",
    "\n",
    "2. Cloudiness is the least associated with Latitude proven by very low R-Values."
   ]
  }
 ],
 "metadata": {
  "anaconda-cloud": {},
  "kernel_info": {
   "name": "python3"
  },
  "kernelspec": {
   "display_name": "Python 3 (ipykernel)",
   "language": "python",
   "name": "python3"
  },
  "language_info": {
   "codemirror_mode": {
    "name": "ipython",
    "version": 3
   },
   "file_extension": ".py",
   "mimetype": "text/x-python",
   "name": "python",
   "nbconvert_exporter": "python",
   "pygments_lexer": "ipython3",
   "version": "3.9.7"
  },
  "latex_envs": {
   "LaTeX_envs_menu_present": true,
   "autoclose": false,
   "autocomplete": true,
   "bibliofile": "biblio.bib",
   "cite_by": "apalike",
   "current_citInitial": 1,
   "eqLabelWithNumbers": true,
   "eqNumInitial": 1,
   "hotkeys": {
    "equation": "Ctrl-E",
    "itemize": "Ctrl-I"
   },
   "labels_anchors": false,
   "latex_user_defs": false,
   "report_style_numbering": false,
   "user_envs_cfg": false
  },
  "nteract": {
   "version": "0.12.3"
  }
 },
 "nbformat": 4,
 "nbformat_minor": 2
}
